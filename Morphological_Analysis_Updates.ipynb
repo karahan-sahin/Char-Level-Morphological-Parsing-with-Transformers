{
  "nbformat": 4,
  "nbformat_minor": 0,
  "metadata": {
    "colab": {
      "name": "Morphological Analysis Updates.ipynb",
      "provenance": [],
      "collapsed_sections": []
    },
    "kernelspec": {
      "display_name": "Python 3",
      "name": "python3"
    },
    "language_info": {
      "name": "python"
    }
  },
  "cells": [
    {
      "cell_type": "markdown",
      "metadata": {
        "id": "6aRdxYgspfwd"
      },
      "source": [
        "### Imports"
      ]
    },
    {
      "cell_type": "code",
      "source": [
        "!pip install transformers"
      ],
      "metadata": {
        "id": "zvv1C7YkZJPD"
      },
      "execution_count": null,
      "outputs": []
    },
    {
      "cell_type": "code",
      "source": [
        "from transformers import BertModel, BertTokenizer"
      ],
      "metadata": {
        "id": "LLralfRgZM4P"
      },
      "execution_count": 25,
      "outputs": []
    },
    {
      "cell_type": "code",
      "source": [
        "model = BertModel.from_pretrained(\"dbmdz/bert-base-turkish-cased\")"
      ],
      "metadata": {
        "id": "OeYxspDBZYI0"
      },
      "execution_count": null,
      "outputs": []
    },
    {
      "cell_type": "code",
      "source": [
        "tokenizer = BertTokenizer.from_pretrained(\"dbmdz/bert-base-turkish-cased\")"
      ],
      "metadata": {
        "id": "HDbOR6YOdgJZ"
      },
      "execution_count": 32,
      "outputs": []
    },
    {
      "cell_type": "code",
      "metadata": {
        "id": "7F0XHj7ipZWH"
      },
      "source": [
        "import pathlib\n",
        "import random\n",
        "import string\n",
        "import re\n",
        "import numpy as np\n",
        "import tensorflow as tf\n",
        "from tensorflow import keras\n",
        "from tensorflow.keras import layers\n",
        "from tensorflow.keras.layers import TextVectorization"
      ],
      "execution_count": 107,
      "outputs": []
    },
    {
      "cell_type": "code",
      "source": [
        "TEST_NAME = \"upsampling\""
      ],
      "metadata": {
        "id": "OzgEUw6sL9z7"
      },
      "execution_count": 108,
      "outputs": []
    },
    {
      "cell_type": "code",
      "source": [
        "from google.colab import drive\n",
        "prefix = \"/content/drive\"\n",
        "drive.mount(prefix)"
      ],
      "metadata": {
        "colab": {
          "base_uri": "https://localhost:8080/"
        },
        "id": "7Fr9ZLDHOIBb",
        "outputId": "052c43f9-c82c-4984-c974-674fc2bed98e"
      },
      "execution_count": 109,
      "outputs": [
        {
          "output_type": "stream",
          "name": "stdout",
          "text": [
            "Drive already mounted at /content/drive; to attempt to forcibly remount, call drive.mount(\"/content/drive\", force_remount=True).\n"
          ]
        }
      ]
    },
    {
      "cell_type": "code",
      "source": [
        "prefix += \"/My Drive/Thesis\""
      ],
      "metadata": {
        "id": "-gyr8ZG4Qw8B"
      },
      "execution_count": 110,
      "outputs": []
    },
    {
      "cell_type": "code",
      "source": [
        "train_file = prefix+\"/\"+TEST_NAME+\"/train.txt\"\n",
        "val_file = prefix+\"/\"+TEST_NAME+\"/dev.txt\"\n",
        "test_file = prefix+\"/\"+TEST_NAME+\"/test.txt\"\n",
        "dataset_sentences = prefix+\"/\"+\"parse_sentences.txt\""
      ],
      "metadata": {
        "id": "qGD2nXfUJDf8"
      },
      "execution_count": 111,
      "outputs": []
    },
    {
      "cell_type": "code",
      "source": [
        "with open(dataset_sentences) as f:\n",
        "  sent_dict = {}\n",
        "  lines = f.read().split(\"\\n\")  \n",
        "  for line in lines[:-1]:\n",
        "      sentence, id = line.split(\"\\t\")\n",
        "      sent_dict[id] = sentence"
      ],
      "metadata": {
        "id": "OSsGoeRhLTWC"
      },
      "execution_count": 112,
      "outputs": []
    },
    {
      "cell_type": "code",
      "source": [
        "len(sent_dict)"
      ],
      "metadata": {
        "colab": {
          "base_uri": "https://localhost:8080/"
        },
        "id": "tcQTqTWGahbh",
        "outputId": "614fd0e6-6ab4-4cff-8b6a-0457e3e55955"
      },
      "execution_count": 113,
      "outputs": [
        {
          "output_type": "execute_result",
          "data": {
            "text/plain": [
              "4849"
            ]
          },
          "metadata": {},
          "execution_count": 113
        }
      ]
    },
    {
      "cell_type": "code",
      "source": [
        "def get_context(raw, id):\n",
        "\n",
        "  sentence = sent_dict[id]\n",
        "\n",
        "  input_ids = tokenizer(sentence)[\"input_ids\"]\n",
        "\n",
        "  encoded_input = tokenizer(sentence, return_tensors='pt')\n",
        "  output = model(**encoded_input)\n",
        "\n",
        "  idx = 0\n",
        "  for id_cand,id in enumerate(input_ids):\n",
        "    if tokenizer.decode([id]) == raw[:len(tokenizer.decode([id]))]:\n",
        "      idx = id_cand\n",
        "\n",
        "  return output['last_hidden_state'][0][idx]"
      ],
      "metadata": {
        "id": "LLVw3p42JSJd"
      },
      "execution_count": 114,
      "outputs": []
    },
    {
      "cell_type": "code",
      "metadata": {
        "id": "vj8G8KYlr_Pt"
      },
      "source": [
        "def process_dataset(data):\n",
        "  with open(data) as f:\n",
        "    lines = f.read().split(\"\\n\")\n",
        "  text_pairs = []\n",
        "  for line in lines[:-1]:\n",
        "      token, morphs, id = line.split(\"\\t\")\n",
        "      raw = \" \".join(token) # Char split\n",
        "      morphs = f\"{' '.join(morphs.split('+')[0])} {' '.join(morphs.split('+')[1:])}\" # Char split\n",
        "      morphs = \"[start] \" + morphs + \" [end]\"\n",
        "      #context = get_context(token, id)\n",
        "      #text_pairs.append((raw, morphs, context))\n",
        "      text_pairs.append((raw, morphs))\n",
        "  return text_pairs"
      ],
      "execution_count": 115,
      "outputs": []
    },
    {
      "cell_type": "code",
      "source": [
        "train_pairs = process_dataset(train_file)\n",
        "val_pairs = process_dataset(val_file)\n",
        "test_pairs = process_dataset(test_file)"
      ],
      "metadata": {
        "id": "dtxUs5nNHV2J"
      },
      "execution_count": 116,
      "outputs": []
    },
    {
      "cell_type": "code",
      "metadata": {
        "colab": {
          "base_uri": "https://localhost:8080/"
        },
        "id": "p3N8H52g86uA",
        "outputId": "7abf2701-1f9f-4c43-8b7c-ab63176b4174"
      },
      "source": [
        "print(f\"{len(train_pairs)} training pairs\")\n",
        "print(f\"{len(val_pairs)} validation pairs\")\n",
        "print(f\"{len(test_pairs)} test pairs\")"
      ],
      "execution_count": 117,
      "outputs": [
        {
          "output_type": "stream",
          "name": "stdout",
          "text": [
            "62981 training pairs\n",
            "9966 validation pairs\n",
            "9966 test pairs\n"
          ]
        }
      ]
    },
    {
      "cell_type": "code",
      "source": [
        "char_set = set()\n",
        "for pair in train_pairs+val_pairs+test_pairs:\n",
        "  for c in pair[0].split():\n",
        "    char_set.add(c)\n",
        "  for c in pair[1].split():\n",
        "    char_set.add(c)\n",
        "\n",
        "print(len(char_set))"
      ],
      "metadata": {
        "colab": {
          "base_uri": "https://localhost:8080/"
        },
        "id": "OMu_OcWeEQiN",
        "outputId": "88f0bf39-1b22-4b6b-b617-afa94dff3109"
      },
      "execution_count": 118,
      "outputs": [
        {
          "output_type": "stream",
          "name": "stdout",
          "text": [
            "355\n"
          ]
        }
      ]
    },
    {
      "cell_type": "markdown",
      "metadata": {
        "id": "hDa1yRcbFdjG"
      },
      "source": [
        "## Dataset Steps\n"
      ]
    },
    {
      "cell_type": "code",
      "metadata": {
        "id": "qnYUbLk3te7U"
      },
      "source": [
        "vocab_size = 350 #\n",
        "sequence_length = 25 # This would be larger --> 20 was default\n",
        "batch_size = 64\n",
        "\n",
        "def custom_standardization_raw(input_string):\n",
        "    return input_string\n",
        "\n",
        "def custom_standardization_morph(input_string):\n",
        "    return input_string\n",
        "\n",
        "raw_vectorization = TextVectorization(\n",
        "    max_tokens=vocab_size, \n",
        "    output_mode=\"int\", \n",
        "    output_sequence_length=sequence_length, \n",
        "    standardize=custom_standardization_raw\n",
        ")\n",
        "morph_vectorization = TextVectorization(\n",
        "    standardize=custom_standardization_morph,\n",
        "    max_tokens=vocab_size,\n",
        "    output_mode=\"int\",\n",
        "    output_sequence_length=sequence_length + 1,\n",
        ")\n",
        "\n",
        "train_raw_texts = [pair[0] for pair in train_pairs]\n",
        "train_morph_texts = [pair[1] for pair in train_pairs]\n",
        "\n",
        "raw_vectorization.adapt(train_raw_texts)\n",
        "morph_vectorization.adapt(train_morph_texts)"
      ],
      "execution_count": 119,
      "outputs": []
    },
    {
      "cell_type": "code",
      "metadata": {
        "id": "UsR1QR0cku2H"
      },
      "source": [
        "import pickle\n",
        "pickle.dump({'config': raw_vectorization.get_config(),\n",
        "             'weights': raw_vectorization.get_weights()}\n",
        "            , open(f\"{TEST_NAME}_raw_vectorizator.pkl\", \"wb\"))\n",
        "\n",
        "pickle.dump({'config': morph_vectorization.get_config(),\n",
        "             'weights': morph_vectorization.get_weights()}\n",
        "            , open(f\"{TEST_NAME}_morph_vectorizator.pkl\", \"wb\"))"
      ],
      "execution_count": 120,
      "outputs": []
    },
    {
      "cell_type": "code",
      "metadata": {
        "id": "Lba25Z9Avka2"
      },
      "source": [
        "def format_dataset(raw, morph):\n",
        "    raw = raw_vectorization(raw)\n",
        "    morph = morph_vectorization(morph)\n",
        "    return ({\"encoder_inputs\": raw, \"decoder_inputs\": morph[:, :-1]}, morph[:, 1:])"
      ],
      "execution_count": 121,
      "outputs": []
    },
    {
      "cell_type": "code",
      "metadata": {
        "id": "s8UH68Znvnf9"
      },
      "source": [
        "def make_dataset(pairs):\n",
        "    eng_texts, spa_texts = zip(*pairs)\n",
        "    eng_texts = list(eng_texts)\n",
        "    spa_texts = list(spa_texts)\n",
        "    dataset = tf.data.Dataset.from_tensor_slices((eng_texts, spa_texts))\n",
        "    dataset = dataset.batch(batch_size)\n",
        "    dataset = dataset.map(format_dataset)\n",
        "    return dataset\n",
        "    #return dataset.shuffle(2048).prefetch(16).cache()"
      ],
      "execution_count": 122,
      "outputs": []
    },
    {
      "cell_type": "code",
      "metadata": {
        "id": "2r9FStaLvm_g"
      },
      "source": [
        "train_ds = make_dataset(train_pairs)\n",
        "val_ds = make_dataset(val_pairs)"
      ],
      "execution_count": 123,
      "outputs": []
    },
    {
      "cell_type": "code",
      "metadata": {
        "colab": {
          "base_uri": "https://localhost:8080/"
        },
        "id": "2Y8Xp8MPpvT5",
        "outputId": "090f74e4-8d59-47a8-a4cb-da169ced16ef"
      },
      "source": [
        "for inputs, targets in train_ds.take(1):\n",
        "    print(f'inputs[\"encoder_inputs\"].shape: {inputs[\"encoder_inputs\"].shape}')\n",
        "    print(f'inputs[\"decoder_inputs\"].shape: {inputs[\"decoder_inputs\"].shape}')\n",
        "    print(f\"targets.shape: {targets.shape}\")"
      ],
      "execution_count": 124,
      "outputs": [
        {
          "output_type": "stream",
          "name": "stdout",
          "text": [
            "inputs[\"encoder_inputs\"].shape: (64, 25)\n",
            "inputs[\"decoder_inputs\"].shape: (64, 25)\n",
            "targets.shape: (64, 25)\n"
          ]
        }
      ]
    },
    {
      "cell_type": "code",
      "source": [
        "class TransformerEncoder(layers.Layer):\n",
        "    def __init__(self, embed_dim, dense_dim, num_heads, **kwargs):\n",
        "        super(TransformerEncoder, self).__init__(**kwargs)\n",
        "        self.embed_dim = embed_dim\n",
        "        self.dense_dim = dense_dim\n",
        "        self.num_heads = num_heads\n",
        "        self.attention = layers.MultiHeadAttention(\n",
        "            num_heads=num_heads, key_dim=embed_dim\n",
        "        )\n",
        "        self.dense_proj = keras.Sequential(\n",
        "            [layers.Dense(dense_dim, activation=\"relu\"), layers.Dense(embed_dim),]\n",
        "        )\n",
        "        self.layernorm_1 = layers.LayerNormalization()\n",
        "        self.layernorm_2 = layers.LayerNormalization()\n",
        "        self.supports_masking = True\n",
        "\n",
        "    def call(self, inputs, mask=None):\n",
        "        if mask is not None:\n",
        "            padding_mask = tf.cast(mask[:, tf.newaxis, tf.newaxis, :], dtype=\"int32\")\n",
        "        attention_output = self.attention(\n",
        "            query=inputs, value=inputs, key=inputs, attention_mask=padding_mask\n",
        "        )\n",
        "        proj_input = self.layernorm_1(inputs + attention_output)\n",
        "        proj_output = self.dense_proj(proj_input)\n",
        "        return self.layernorm_2(proj_input + proj_output)\n",
        "\n",
        "class PositionalEmbedding(layers.Layer):\n",
        "    def __init__(self, sequence_length, vocab_size, embed_dim, **kwargs):\n",
        "        super(PositionalEmbedding, self).__init__(**kwargs)\n",
        "        self.token_embeddings = layers.Embedding(\n",
        "            input_dim=vocab_size, output_dim=embed_dim\n",
        "        )\n",
        "        self.position_embeddings = layers.Embedding(\n",
        "            input_dim=sequence_length, output_dim=embed_dim\n",
        "        )\n",
        "        self.sequence_length = sequence_length\n",
        "        self.vocab_size = vocab_size\n",
        "        self.embed_dim = embed_dim\n",
        "\n",
        "    def call(self, inputs):\n",
        "        length = tf.shape(inputs)[-1]\n",
        "        positions = tf.range(start=0, limit=length, delta=1)\n",
        "        embedded_tokens = self.token_embeddings(inputs)\n",
        "        embedded_positions = self.position_embeddings(positions)\n",
        "        return embedded_tokens + embedded_positions\n",
        "\n",
        "    def get_config(self):\n",
        "\n",
        "        config = super().get_config().copy()\n",
        "        config.update({\n",
        "            'token_embeddings': self.token_embeddings,\n",
        "            'position_embeddings': self.position_embeddings,\n",
        "            'sequence_length': self.sequence_length,\n",
        "            'vocab_size': self.vocab_size,\n",
        "            'embed_dim': self.embed_dim,\n",
        "              })\n",
        "        return config\n",
        "\n",
        "    def compute_mask(self, inputs, mask=None):\n",
        "        return tf.math.not_equal(inputs, 0)\n",
        "\n",
        "class TransformerDecoder(layers.Layer):\n",
        "    def __init__(self, embed_dim, latent_dim, num_heads, **kwargs):\n",
        "        super(TransformerDecoder, self).__init__(**kwargs)\n",
        "        self.embed_dim = embed_dim\n",
        "        self.latent_dim = latent_dim\n",
        "        self.num_heads = num_heads\n",
        "        self.attention_1 = layers.MultiHeadAttention(\n",
        "            num_heads=num_heads, key_dim=embed_dim\n",
        "        )\n",
        "        self.attention_2 = layers.MultiHeadAttention(\n",
        "            num_heads=num_heads, key_dim=embed_dim\n",
        "        )\n",
        "        self.dense_proj = keras.Sequential(\n",
        "            [layers.Dense(latent_dim, activation=\"relu\"), layers.Dense(embed_dim),]\n",
        "        )\n",
        "        self.layernorm_1 = layers.LayerNormalization()\n",
        "        self.layernorm_2 = layers.LayerNormalization()\n",
        "        self.layernorm_3 = layers.LayerNormalization()\n",
        "        self.supports_masking = True\n",
        "\n",
        "    def call(self, inputs, encoder_outputs, mask=None):\n",
        "        causal_mask = self.get_causal_attention_mask(inputs)\n",
        "        if mask is not None:\n",
        "            padding_mask = tf.cast(mask[:, tf.newaxis, :], dtype=\"int32\")\n",
        "            padding_mask = tf.minimum(padding_mask, causal_mask)\n",
        "\n",
        "        attention_output_1 = self.attention_1(\n",
        "            query=inputs, value=inputs, key=inputs, attention_mask=causal_mask\n",
        "        )\n",
        "        out_1 = self.layernorm_1(inputs + attention_output_1)\n",
        "\n",
        "        attention_output_2 = self.attention_2(\n",
        "            query=out_1,\n",
        "            value=encoder_outputs,\n",
        "            key=encoder_outputs,\n",
        "            attention_mask=padding_mask,\n",
        "        )\n",
        "        out_2 = self.layernorm_2(out_1 + attention_output_2)\n",
        "\n",
        "        proj_output = self.dense_proj(out_2)\n",
        "        return self.layernorm_3(out_2 + proj_output)\n",
        "\n",
        "    def get_causal_attention_mask(self, inputs):\n",
        "        input_shape = tf.shape(inputs)\n",
        "        batch_size, sequence_length = input_shape[0], input_shape[1]\n",
        "        i = tf.range(sequence_length)[:, tf.newaxis]\n",
        "        j = tf.range(sequence_length)\n",
        "        mask = tf.cast(i >= j, dtype=\"int32\")\n",
        "        mask = tf.reshape(mask, (1, input_shape[1], input_shape[1]))\n",
        "        mult = tf.concat(\n",
        "            [tf.expand_dims(batch_size, -1), tf.constant([1, 1], dtype=tf.int32)],\n",
        "            axis=0,\n",
        "        )\n",
        "        return tf.tile(mask, mult)"
      ],
      "metadata": {
        "id": "4yyyGIF4h_Hk"
      },
      "execution_count": 125,
      "outputs": []
    },
    {
      "cell_type": "markdown",
      "metadata": {
        "id": "8r2j2sCMFvJG"
      },
      "source": [
        "## Training Step"
      ]
    },
    {
      "cell_type": "code",
      "metadata": {
        "id": "-U5jnzAkF0RP"
      },
      "source": [
        "vocab_size = 350\n",
        "sequence_length = 25\n",
        "embed_dim = 256\n",
        "latent_dim = 2048\n",
        "num_heads = 8\n",
        "\n",
        "encoder_inputs = keras.Input(shape=(None,), dtype=\"int64\", name=\"encoder_inputs\")\n",
        "x = PositionalEmbedding(sequence_length, vocab_size, embed_dim)(encoder_inputs)\n",
        "encoder_outputs = TransformerEncoder(embed_dim, latent_dim, num_heads)(x)\n",
        "encoder = keras.Model(encoder_inputs, encoder_outputs)\n",
        "\n",
        "decoder_inputs = keras.Input(shape=(None,), dtype=\"int64\", name=\"decoder_inputs\")\n",
        "encoded_seq_inputs = keras.Input(shape=(None, embed_dim), name=\"decoder_state_inputs\")\n",
        "x = PositionalEmbedding(sequence_length, vocab_size, embed_dim)(decoder_inputs)\n",
        "x = TransformerDecoder(embed_dim, latent_dim, num_heads)(x, encoded_seq_inputs)\n",
        "x = layers.Dropout(0.5)(x)\n",
        "decoder_outputs = layers.Dense(vocab_size, activation=\"softmax\")(x)\n",
        "decoder = keras.Model([decoder_inputs, encoded_seq_inputs], decoder_outputs)\n",
        "\n",
        "decoder_outputs = decoder([decoder_inputs, encoder_outputs])\n",
        "transformer = keras.Model(\n",
        "    [encoder_inputs, decoder_inputs], decoder_outputs, name=\"transformer\"\n",
        ")"
      ],
      "execution_count": 128,
      "outputs": []
    },
    {
      "cell_type": "code",
      "metadata": {
        "colab": {
          "base_uri": "https://localhost:8080/"
        },
        "id": "96fcYmPqsoJM",
        "outputId": "485d5beb-e788-4b73-d9d3-6128d1de3439"
      },
      "source": [
        "epochs = 5  # This should be at least 30 for convergence\n",
        "\n",
        "transformer.summary()\n",
        "transformer.compile(\n",
        "    \"rmsprop\", loss=\"sparse_categorical_crossentropy\", metrics=[\"accuracy\"]\n",
        ")\n",
        "transformer.fit(train_ds, epochs=epochs, validation_data=val_ds)"
      ],
      "execution_count": null,
      "outputs": [
        {
          "output_type": "stream",
          "name": "stdout",
          "text": [
            "Model: \"transformer\"\n",
            "__________________________________________________________________________________________________\n",
            " Layer (type)                   Output Shape         Param #     Connected to                     \n",
            "==================================================================================================\n",
            " encoder_inputs (InputLayer)    [(None, None)]       0           []                               \n",
            "                                                                                                  \n",
            " positional_embedding_10 (Posit  (None, None, 256)   96000       ['encoder_inputs[0][0]']         \n",
            " ionalEmbedding)                                                                                  \n",
            "                                                                                                  \n",
            " decoder_inputs (InputLayer)    [(None, None)]       0           []                               \n",
            "                                                                                                  \n",
            " transformer_encoder_5 (Transfo  (None, None, 256)   3155456     ['positional_embedding_10[0][0]']\n",
            " rmerEncoder)                                                                                     \n",
            "                                                                                                  \n",
            " model_11 (Functional)          (None, None, 350)    5445470     ['decoder_inputs[0][0]',         \n",
            "                                                                  'transformer_encoder_5[0][0]']  \n",
            "                                                                                                  \n",
            "==================================================================================================\n",
            "Total params: 8,696,926\n",
            "Trainable params: 8,696,926\n",
            "Non-trainable params: 0\n",
            "__________________________________________________________________________________________________\n",
            "Epoch 1/5\n",
            " 72/985 [=>............................] - ETA: 26:44 - loss: 1.1296 - accuracy: 0.4661"
          ]
        }
      ]
    },
    {
      "cell_type": "code",
      "metadata": {
        "id": "0yhxeqbjVgb5"
      },
      "source": [
        "from google.colab import files\n",
        "transformer.save_weights(f\"{TEST_NAME}\")\n",
        "files.download(f\"{TEST_NAME}_raw_vectorizator.pkl\")\n",
        "files.download(f\"{TEST_NAME}_morph_vectorizator.pkl\")\n",
        "files.download(f\"{TEST_NAME}.index\")\n",
        "files.download(f\"{TEST_NAME}.data-00000-of-00001\")"
      ],
      "execution_count": null,
      "outputs": []
    },
    {
      "cell_type": "code",
      "metadata": {
        "id": "RT4ufJPbssEq"
      },
      "source": [
        "morph_vocab = morph_vectorization.get_vocabulary()\n",
        "morph_index_lookup = dict(zip(range(len(morph_vocab)), morph_vocab))\n",
        "max_decoded_sentence_length = 25"
      ],
      "execution_count": null,
      "outputs": []
    },
    {
      "cell_type": "code",
      "metadata": {
        "id": "dM026WYRte2D"
      },
      "source": [
        "def decode_sequence(input_sentence):\n",
        "    tokenized_input_sentence = raw_vectorization([input_sentence])\n",
        "    decoded_sentence = \"[start]+\"\n",
        "    for i in range(max_decoded_sentence_length):\n",
        "        tokenized_target_sentence = morph_vectorization([decoded_sentence])[:, :-1]\n",
        "        predictions = transformer([tokenized_input_sentence, tokenized_target_sentence])\n",
        "\n",
        "        sampled_token_index = np.argmax(predictions[0, i, :])\n",
        "        sampled_token = morph_index_lookup[sampled_token_index]\n",
        "        decoded_sentence += \" \" + sampled_token\n",
        "\n",
        "        if sampled_token == \"[end]\":\n",
        "          break\n",
        "    return decoded_sentence"
      ],
      "execution_count": null,
      "outputs": []
    },
    {
      "cell_type": "code",
      "metadata": {
        "id": "aKFtc18LsvRN"
      },
      "source": [
        "pos_unique = ['NOUN', 'VERB', 'PUNCT', 'ADJ', 'ADP', 'CONJ', 'DET', 'ADV', 'NUM', 'PRON', 'PRT', 'X', 'ONOM', 'AFFIX']\n",
        "\n",
        "def normalize(input):\n",
        "  pre = \"\"\n",
        "  feats = \"\"\n",
        "  tokens = input.split()[1:-1]\n",
        "  match = False\n",
        "  for idx,token in enumerate(tokens):\n",
        "    if token.split(\"^\")[0] in pos_unique and not match:\n",
        "      pre += \"\".join(tokens[0:idx])+\"+\"+token+\"+\"\n",
        "      match=True\n",
        "    elif match:\n",
        "      feats += token+\"+\"\n",
        "  return (pre+feats).strip(\"+\")"
      ],
      "execution_count": null,
      "outputs": []
    },
    {
      "cell_type": "code",
      "source": [
        "print(normalize(decode_sequence(test_raw_texts[0])))\n",
        "print(normalize(test_morph_texts[0]))"
      ],
      "metadata": {
        "id": "WwBke383-KxY"
      },
      "execution_count": null,
      "outputs": []
    },
    {
      "cell_type": "code",
      "metadata": {
        "id": "-3I96urctcXC"
      },
      "source": [
        "import sys\n",
        "test_raw_texts = [pair[0] for pair in test_pairs]\n",
        "test_morph_texts = [pair[1] for pair in test_pairs]\n",
        "\n",
        "y_true = []\n",
        "y_pred = []\n",
        "\n",
        "with open(f'{TEST_NAME}.txt', 'w+', encoding='utf-8') as f_out:\n",
        "  for input_sentence, analyzed_sentence in zip(test_raw_texts,test_morph_texts):\n",
        "    try:\n",
        "      pred = normalize(decode_sequence(input_sentence))\n",
        "      true = normalize(analyzed_sentence)\n",
        "\n",
        "      y_true.append(true)\n",
        "      y_pred.append(pred)\n",
        "\n",
        "      f_out.write(f\"{pred}\\t{true}\\n\")\n",
        "    except:\n",
        "      print(\"Error\")\n",
        "      sys.exit()\n",
        "\n",
        "files.download(f'{TEST_NAME}.txt')"
      ],
      "execution_count": null,
      "outputs": []
    },
    {
      "cell_type": "code",
      "source": [
        "y_true = [true.split(\"+\") for true in y_true]\n",
        "y_pred = [pred.split(\"+\") for pred in y_pred]"
      ],
      "metadata": {
        "id": "dR-3mMUDns7C"
      },
      "execution_count": null,
      "outputs": []
    },
    {
      "cell_type": "code",
      "source": [
        "y_true[0]"
      ],
      "metadata": {
        "id": "TfemHDJzf-nx"
      },
      "execution_count": null,
      "outputs": []
    },
    {
      "cell_type": "code",
      "source": [
        "y_pred = [x if len(x)>1 else [\".\"]+x for x in y_pred]\n",
        "y_true = [x if len(x)>1 else [\".\"]+x for x in y_true]"
      ],
      "metadata": {
        "id": "Va6jmFZif3-V"
      },
      "execution_count": null,
      "outputs": []
    },
    {
      "cell_type": "code",
      "metadata": {
        "id": "MLyelv5DFN_X"
      },
      "source": [
        "from nltk.translate.bleu_score import sentence_bleu\n",
        "\n",
        "def calculate_BLEU():\n",
        "  total_score = 0\n",
        "  for pred, true in zip(y_pred,y_true):\n",
        "    reference = [pred][:]\n",
        "    candidate = true[:]\n",
        "    score = sentence_bleu(reference, candidate)\n",
        "    \n",
        "    total_score += score\n",
        "\n",
        "  return total_score/len(y_true)"
      ],
      "execution_count": null,
      "outputs": []
    },
    {
      "cell_type": "code",
      "metadata": {
        "id": "4fMz03jtRnlv"
      },
      "source": [
        "from sklearn.metrics import accuracy_score\n",
        "\n",
        "def calculate_lemma():\n",
        "\n",
        "  true = [token[0] for token in y_true]\n",
        "  pred = [token[0] for token in y_pred]\n",
        "\n",
        "  return accuracy_score(true,pred)\n",
        "\n",
        "def calculate_POS():\n",
        "  true = [token[1] for token in y_true]\n",
        "  pred = [token[1] for token in y_pred]\n",
        "\n",
        "  return accuracy_score(true,pred)"
      ],
      "execution_count": null,
      "outputs": []
    },
    {
      "cell_type": "code",
      "metadata": {
        "id": "pW3axlC0tpBJ"
      },
      "source": [
        "def calculate_precision_and_recall(y_true,y_pred):\n",
        "\n",
        "    precisions = []\n",
        "    recalls = []\n",
        "\n",
        "    for true,pred in zip(y_true,y_pred):\n",
        "        try:\n",
        "            max_precision = 0\n",
        "            max_recall = 0\n",
        "\n",
        "            x = true\n",
        "            y = pred\n",
        "\n",
        "            if len(x) > 0 and len(y) > 0:\n",
        "                shared_items = dict()\n",
        "                for k in x:\n",
        "                    if (k in y) and (x.index(k) == y.index(k)):\n",
        "                        shared_items[k] = x.index(k)\n",
        "\n",
        "                recall = len(shared_items)/len(x)\n",
        "                precision = len(shared_items)/len(y)\n",
        "\n",
        "                if precision > max_precision:\n",
        "                    max_precision = precision\n",
        "\n",
        "                if recall > max_recall:\n",
        "                    max_recall = recall\n",
        "\n",
        "            precisions.append(max_precision)\n",
        "            recalls.append(max_recall)\n",
        "\n",
        "        except KeyError:\n",
        "            precisions.append(0)\n",
        "            recalls.append(0)\n",
        "\n",
        "\n",
        "    sum = 0\n",
        "    for item in precisions:\n",
        "        sum += item\n",
        "\n",
        "    average_precision = sum/len(precisions)\n",
        "\n",
        "    sum = 0\n",
        "\n",
        "    for item in recalls:\n",
        "        sum += item\n",
        "\n",
        "    average_recall = sum/len(precisions)\n",
        "\n",
        "    \n",
        "    return average_precision, average_recall"
      ],
      "execution_count": null,
      "outputs": []
    },
    {
      "cell_type": "code",
      "metadata": {
        "id": "qRjFO0jsGv9l"
      },
      "source": [
        "bleu_score = calculate_BLEU()\n",
        "precision, recall = calculate_precision_and_recall(y_true,y_pred)\n",
        "pos_score = calculate_POS()\n",
        "lemma_score = calculate_lemma()"
      ],
      "execution_count": null,
      "outputs": []
    },
    {
      "cell_type": "markdown",
      "source": [
        "## Baseline"
      ],
      "metadata": {
        "id": "bnLycKqMjxxg"
      }
    },
    {
      "cell_type": "code",
      "source": [
        "print(\"Precision:\", precision)\n",
        "print(\"Recall:\", recall)\n",
        "print(\"BLEU Score:\", bleu_score)\n",
        "print(\"POS Accuracy:\", pos_score)\n",
        "print(\"Lemma Accuracy:\", lemma_score)"
      ],
      "metadata": {
        "colab": {
          "base_uri": "https://localhost:8080/"
        },
        "id": "5fTnKYvXZeFc",
        "outputId": "529a106d-ab9e-4ae0-b66b-64bf3a53db6c"
      },
      "execution_count": 106,
      "outputs": [
        {
          "output_type": "stream",
          "name": "stdout",
          "text": [
            "Precision: 0.7837730515107862\n",
            "Recall: 0.7844898273845623\n",
            "BLEU Score: 0.81305067886416\n",
            "POS Accuracy: 0.8554083885209713\n",
            "Lemma Accuracy: 0.8404575556893438\n"
          ]
        }
      ]
    },
    {
      "cell_type": "markdown",
      "source": [
        "## Upsampling"
      ],
      "metadata": {
        "id": "bGkb0Szfj1U7"
      }
    },
    {
      "cell_type": "code",
      "source": [
        "print(\"Precision:\", precision)\n",
        "print(\"Recall:\", recall)\n",
        "print(\"BLEU Score:\", bleu_score)\n",
        "print(\"POS Accuracy:\", pos_score)\n",
        "print(\"Lemma Accuracy:\", lemma_score)"
      ],
      "metadata": {
        "id": "27NtVzQSj4L5"
      },
      "execution_count": null,
      "outputs": []
    },
    {
      "cell_type": "code",
      "source": [
        ""
      ],
      "metadata": {
        "id": "VI71MvnDj6Ud"
      },
      "execution_count": null,
      "outputs": []
    }
  ]
}